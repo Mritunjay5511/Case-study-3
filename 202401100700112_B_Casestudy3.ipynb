{
  "nbformat": 4,
  "nbformat_minor": 0,
  "metadata": {
    "colab": {
      "provenance": []
    },
    "kernelspec": {
      "name": "python3",
      "display_name": "Python 3"
    },
    "language_info": {
      "name": "python"
    }
  },
  "cells": [
    {
      "cell_type": "markdown",
      "source": [
        "Develop a function to monitor temperature and provide alert"
      ],
      "metadata": {
        "id": "FntDQaOCHnP8"
      }
    },
    {
      "cell_type": "code",
      "source": [
        "def monitor_temperature():\n",
        "    # Get the upper and lower temperature limits from the user\n",
        "    lower_limit = float(input(\"Enter the lower temperature limit (°C): \"))\n",
        "    upper_limit = float(input(\"Enter the upper temperature limit (°C): \"))\n",
        "\n",
        "    # Ask the user to input a temperature to check\n",
        "    temperature = float(input(\"Enter the current temperature (°C): \"))\n",
        "\n",
        "    # Display the current temperature and alert\n",
        "    print(f\"Current Temperature: {temperature:.2f}°C\")\n",
        "\n",
        "    if temperature < lower_limit:\n",
        "        print(\"ALERT: Temperature is too LOW!\")\n",
        "    elif temperature > upper_limit:\n",
        "        print(\"ALERT: Temperature is too HIGH!\")\n",
        "    else:\n",
        "        print(\"Temperature is NORMAL.\")\n",
        "\n",
        "# Call the function\n",
        "monitor_temperature()"
      ],
      "metadata": {
        "colab": {
          "base_uri": "https://localhost:8080/",
          "height": 0
        },
        "id": "N7_Ad1-ZHzQ5",
        "outputId": "d6d4beeb-bc9b-4ce0-d44d-6cc54f656185"
      },
      "execution_count": 1,
      "outputs": [
        {
          "output_type": "stream",
          "name": "stdout",
          "text": [
            "Enter the lower temperature limit (°C): 18\n",
            "Enter the upper temperature limit (°C): 40\n",
            "Enter the current temperature (°C): 10\n",
            "Current Temperature: 10.00°C\n",
            "ALERT: Temperature is too LOW!\n"
          ]
        }
      ]
    }
  ]
}